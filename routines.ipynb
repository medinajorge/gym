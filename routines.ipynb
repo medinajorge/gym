{
 "cells": [
  {
   "cell_type": "markdown",
   "id": "5bd21da7",
   "metadata": {
    "heading_collapsed": true
   },
   "source": [
    "## Packages"
   ]
  },
  {
   "cell_type": "code",
   "execution_count": 1,
   "id": "3a021c54",
   "metadata": {
    "hidden": true,
    "init_cell": true
   },
   "outputs": [],
   "source": [
    "import numpy as np\n",
    "import pandas as pd\n",
    "import routines\n",
    "from helper import process_week, join_weeks, deload"
   ]
  },
  {
   "cell_type": "markdown",
   "id": "5bd51c09",
   "metadata": {
    "heading_collapsed": true
   },
   "source": [
    "# Guides"
   ]
  },
  {
   "cell_type": "markdown",
   "id": "69c6d5be",
   "metadata": {
    "hidden": true
   },
   "source": [
    "1. Band strengths: 2 (yellow)\n",
    "2. When in conflict, choose weight appropiate for the reps and rir."
   ]
  },
  {
   "cell_type": "markdown",
   "id": "3790bb0e",
   "metadata": {},
   "source": [
    "# Routines"
   ]
  },
  {
   "cell_type": "markdown",
   "id": "3cdce062",
   "metadata": {
    "heading_collapsed": true
   },
   "source": [
    "## Eric C1"
   ]
  },
  {
   "cell_type": "code",
   "execution_count": null,
   "id": "06179d2b",
   "metadata": {
    "hidden": true
   },
   "outputs": [],
   "source": [
    "R = routines.Eric_cycle1().drop(\"W1\", axis=1)\n",
    "deload(R, mode=\"sets\")[\"X\"]"
   ]
  },
  {
   "cell_type": "code",
   "execution_count": null,
   "id": "22acfca2",
   "metadata": {
    "hidden": true
   },
   "outputs": [],
   "source": [
    "deload(routines.Eric_cycle2())[\"V\"]"
   ]
  },
  {
   "cell_type": "markdown",
   "id": "a402172c",
   "metadata": {},
   "source": [
    "## Eric C1 - M2"
   ]
  },
  {
   "cell_type": "code",
   "execution_count": 8,
   "id": "989dd6a7",
   "metadata": {},
   "outputs": [],
   "source": [
    "R_prev = routines.Eric_cycle1()\n",
    "R_prev, notes = R_prev.iloc[:-1], R_prev.iloc[-1]\n",
    "\n",
    "R = R_prev.loc[:, \"W3\":].astype(np.float64)\n",
    "R.columns =  pd.MultiIndex.from_tuples((f\"W{i}\", *levels) for i in range(1, 5) for levels in R[\"W3\"].columns)\n",
    "R = R.swaplevel(i=0, j=2, axis=1)\n",
    "R.loc[\"weight\", \"W. Pull up (prono)\"] = R.loc[\"weight\", \"W. Pull up (prono)\"].values + 2.5\n",
    "R.loc[\"weight\", \"Pause CG BP\"] = R.loc[\"weight\", \"Pause CG BP\"].values - 10\n",
    "R = R.swaplevel(i=0, j=2, axis=1)\n",
    "R.loc[\"notes\"] = notes.loc[\"W1\":\"W4\"]"
   ]
  },
  {
   "cell_type": "code",
   "execution_count": null,
   "id": "07fa8f77",
   "metadata": {},
   "outputs": [],
   "source": [
    "R = routines.Eric_cycle1_m2()\n",
    "R[\"W2\"][\"V\"]"
   ]
  },
  {
   "cell_type": "code",
   "execution_count": null,
   "id": "4a199235",
   "metadata": {},
   "outputs": [],
   "source": []
  }
 ],
 "metadata": {
  "kernelspec": {
   "display_name": "Python 3 (ipykernel)",
   "language": "python",
   "name": "python3"
  },
  "language_info": {
   "codemirror_mode": {
    "name": "ipython",
    "version": 3
   },
   "file_extension": ".py",
   "mimetype": "text/x-python",
   "name": "python",
   "nbconvert_exporter": "python",
   "pygments_lexer": "ipython3",
   "version": "3.10.4"
  }
 },
 "nbformat": 4,
 "nbformat_minor": 5
}
