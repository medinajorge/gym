{
 "cells": [
  {
   "cell_type": "markdown",
   "id": "5bd21da7",
   "metadata": {},
   "source": [
    "## Packages"
   ]
  },
  {
   "cell_type": "code",
   "execution_count": 1,
   "id": "3a021c54",
   "metadata": {
    "init_cell": true
   },
   "outputs": [],
   "source": [
    "import numpy as np\n",
    "import pandas as pd\n",
    "import routines\n",
    "from helper import process_week, join_weeks, deload"
   ]
  },
  {
   "cell_type": "markdown",
   "id": "5bd51c09",
   "metadata": {},
   "source": [
    "# Guides"
   ]
  },
  {
   "cell_type": "markdown",
   "id": "69c6d5be",
   "metadata": {},
   "source": [
    "1. Band strengths: 2 (yellow)\n",
    "2. When in conflict, choose weight appropiate for the reps and rir."
   ]
  },
  {
   "cell_type": "markdown",
   "id": "3790bb0e",
   "metadata": {},
   "source": [
    "# Routines"
   ]
  },
  {
   "cell_type": "markdown",
   "id": "3cdce062",
   "metadata": {
    "heading_collapsed": true
   },
   "source": [
    "## Eric C1"
   ]
  },
  {
   "cell_type": "code",
   "execution_count": null,
   "id": "06179d2b",
   "metadata": {
    "hidden": true
   },
   "outputs": [],
   "source": [
    "R = routines.Eric_cycle1().drop(\"W1\", axis=1)\n",
    "deload(R, mode=\"sets\")[\"X\"]"
   ]
  },
  {
   "cell_type": "code",
   "execution_count": null,
   "id": "22acfca2",
   "metadata": {
    "hidden": true
   },
   "outputs": [],
   "source": [
    "deload(routines.Eric_cycle2())[\"V\"]"
   ]
  },
  {
   "cell_type": "markdown",
   "id": "a402172c",
   "metadata": {},
   "source": [
    "## Eric C1 - M2"
   ]
  },
  {
   "cell_type": "code",
   "execution_count": 8,
   "id": "989dd6a7",
   "metadata": {},
   "outputs": [],
   "source": [
    "R_prev = routines.Eric_cycle1()\n",
    "R_prev, notes = R_prev.iloc[:-1], R_prev.iloc[-1]\n",
    "\n",
    "R = R_prev.loc[:, \"W3\":].astype(np.float64)\n",
    "R.columns =  pd.MultiIndex.from_tuples((f\"W{i}\", *levels) for i in range(1, 5) for levels in R[\"W3\"].columns)\n",
    "R = R.swaplevel(i=0, j=2, axis=1)\n",
    "R.loc[\"weight\", \"W. Pull up (prono)\"] = R.loc[\"weight\", \"W. Pull up (prono)\"].values + 2.5\n",
    "R.loc[\"weight\", \"Pause CG BP\"] = R.loc[\"weight\", \"Pause CG BP\"].values - 10\n",
    "R = R.swaplevel(i=0, j=2, axis=1)\n",
    "R.loc[\"notes\"] = notes.loc[\"W1\":\"W4\"]"
   ]
  },
  {
   "cell_type": "code",
   "execution_count": 2,
   "id": "07fa8f77",
   "metadata": {},
   "outputs": [],
   "source": [
    "R = routines.Eric_cycle1_m2()"
   ]
  },
  {
   "cell_type": "code",
   "execution_count": 3,
   "id": "52dc002c",
   "metadata": {},
   "outputs": [
    {
     "data": {
      "text/html": [
       "<div>\n",
       "<style scoped>\n",
       "    .dataframe tbody tr th:only-of-type {\n",
       "        vertical-align: middle;\n",
       "    }\n",
       "\n",
       "    .dataframe tbody tr th {\n",
       "        vertical-align: top;\n",
       "    }\n",
       "\n",
       "    .dataframe thead th {\n",
       "        text-align: right;\n",
       "    }\n",
       "</style>\n",
       "<table border=\"1\" class=\"dataframe\">\n",
       "  <thead>\n",
       "    <tr style=\"text-align: right;\">\n",
       "      <th></th>\n",
       "      <th>W. Pull up (prono)</th>\n",
       "      <th>Pause CG BP</th>\n",
       "      <th>W. ring row</th>\n",
       "      <th>Militar</th>\n",
       "      <th>1-arm cable row</th>\n",
       "      <th>W. dip</th>\n",
       "    </tr>\n",
       "  </thead>\n",
       "  <tbody>\n",
       "    <tr>\n",
       "      <th>sets</th>\n",
       "      <td>3.0</td>\n",
       "      <td>3.0</td>\n",
       "      <td>2.0</td>\n",
       "      <td>2.0</td>\n",
       "      <td>2.0</td>\n",
       "      <td>2.0</td>\n",
       "    </tr>\n",
       "    <tr>\n",
       "      <th>reps</th>\n",
       "      <td>NaN</td>\n",
       "      <td>6.0</td>\n",
       "      <td>8.0</td>\n",
       "      <td>8.0</td>\n",
       "      <td>13.0</td>\n",
       "      <td>8.0</td>\n",
       "    </tr>\n",
       "    <tr>\n",
       "      <th>weight</th>\n",
       "      <td>22.5</td>\n",
       "      <td>57.5</td>\n",
       "      <td>17.0</td>\n",
       "      <td>37.5</td>\n",
       "      <td>37.5</td>\n",
       "      <td>10.0</td>\n",
       "    </tr>\n",
       "    <tr>\n",
       "      <th>rir</th>\n",
       "      <td>2.0</td>\n",
       "      <td>2.0</td>\n",
       "      <td>NaN</td>\n",
       "      <td>2.0</td>\n",
       "      <td>1.0</td>\n",
       "      <td>2.0</td>\n",
       "    </tr>\n",
       "    <tr>\n",
       "      <th>distance</th>\n",
       "      <td>NaN</td>\n",
       "      <td>NaN</td>\n",
       "      <td>NaN</td>\n",
       "      <td>NaN</td>\n",
       "      <td>NaN</td>\n",
       "      <td>NaN</td>\n",
       "    </tr>\n",
       "    <tr>\n",
       "      <th>notes</th>\n",
       "      <td>NaN</td>\n",
       "      <td>NaN</td>\n",
       "      <td>NaN</td>\n",
       "      <td>NaN</td>\n",
       "      <td>NaN</td>\n",
       "      <td>NaN</td>\n",
       "    </tr>\n",
       "  </tbody>\n",
       "</table>\n",
       "</div>"
      ],
      "text/plain": [
       "          W. Pull up (prono)  Pause CG BP  W. ring row  Militar  \\\n",
       "sets                     3.0          3.0          2.0      2.0   \n",
       "reps                     NaN          6.0          8.0      8.0   \n",
       "weight                  22.5         57.5         17.0     37.5   \n",
       "rir                      2.0          2.0          NaN      2.0   \n",
       "distance                 NaN          NaN          NaN      NaN   \n",
       "notes                    NaN          NaN          NaN      NaN   \n",
       "\n",
       "          1-arm cable row  W. dip  \n",
       "sets                  2.0     2.0  \n",
       "reps                 13.0     8.0  \n",
       "weight               37.5    10.0  \n",
       "rir                   1.0     2.0  \n",
       "distance              NaN     NaN  \n",
       "notes                 NaN     NaN  "
      ]
     },
     "execution_count": 3,
     "metadata": {},
     "output_type": "execute_result"
    }
   ],
   "source": [
    "R[\"W1\"][\"X\"]"
   ]
  },
  {
   "cell_type": "code",
   "execution_count": null,
   "id": "4a199235",
   "metadata": {},
   "outputs": [],
   "source": []
  }
 ],
 "metadata": {
  "kernelspec": {
   "display_name": "Python 3 (ipykernel)",
   "language": "python",
   "name": "python3"
  },
  "language_info": {
   "codemirror_mode": {
    "name": "ipython",
    "version": 3
   },
   "file_extension": ".py",
   "mimetype": "text/x-python",
   "name": "python",
   "nbconvert_exporter": "python",
   "pygments_lexer": "ipython3",
   "version": "3.10.4"
  }
 },
 "nbformat": 4,
 "nbformat_minor": 5
}
