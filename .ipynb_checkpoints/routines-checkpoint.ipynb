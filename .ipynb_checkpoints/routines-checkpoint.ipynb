{
 "cells": [
  {
   "cell_type": "markdown",
   "id": "0b18377d",
   "metadata": {
    "heading_collapsed": true
   },
   "source": [
    "## Packages"
   ]
  },
  {
   "cell_type": "code",
   "execution_count": 3,
   "id": "9168e584",
   "metadata": {
    "hidden": true
   },
   "outputs": [],
   "source": [
    "import numpy as np\n",
    "import pandas as pd\n",
    "import routines\n",
    "from helper import process_week, join_weeks"
   ]
  },
  {
   "cell_type": "markdown",
   "id": "6a48dcde",
   "metadata": {
    "heading_collapsed": true
   },
   "source": [
    "# Guides"
   ]
  },
  {
   "cell_type": "markdown",
   "id": "d09856e2",
   "metadata": {
    "hidden": true
   },
   "source": [
    "1. Band strengths: 2 (yellow)\n",
    "2. When in conflict, choose weight appropiate for the reps and rir."
   ]
  },
  {
   "cell_type": "markdown",
   "id": "0b9d50b7",
   "metadata": {},
   "source": [
    "# Eric cycle 2"
   ]
  },
  {
   "cell_type": "markdown",
   "id": "59c3b801",
   "metadata": {
    "heading_collapsed": true
   },
   "source": [
    "## W1"
   ]
  },
  {
   "cell_type": "code",
   "execution_count": 5,
   "id": "669e070f",
   "metadata": {
    "hidden": true
   },
   "outputs": [],
   "source": [
    "w1 = dict(\n",
    "    M = pd.concat([\n",
    "        pd.Series(dict(sets=3, reps=6, weight=None, rir=None, distance=3.25, notes=\"Distance: #feet\"), name=\"Box Pike PU\"),\n",
    "        pd.Series(dict(sets=3, reps=1, weight=None, rir=3, distance=None, notes=None), name=\"1-leg FL\"),\n",
    "        pd.Series(dict(sets=2, reps=6, weight=None, rir=None, distance=3.75, notes=\"Distance: #hand\"), name=\"Lean PU\"),\n",
    "        pd.Series(dict(sets=3, reps=2, weight=2, rir=None, distance=None, notes=\"4 seconds. 1 sec pause in middle. weight: yellow band\"), name=\"St. HW ecc FL - band\"),\n",
    "        pd.Series(dict(sets=2, reps=1, weight=None, rir=0, distance=None, notes=\"max hold\"), name=\"Full Dragon Flag iso\"),\n",
    "        pd.Series(dict(sets=2, reps=None, weight=2, rir=0, distance=None, notes=\"yellow band\"), name=\"Facepulls\")\n",
    "    ], axis=1),\n",
    "\n",
    "    X = pd.concat([\n",
    "        pd.Series(dict(sets=2, reps=None, weight=20, rir=3, distance=None, notes=None), name=\"W. Pull up (prono)\"),\n",
    "        pd.Series(dict(sets=2, reps=6, weight=55, rir=3, distance=None, notes=None), name=\"Pause CG inclined BP\"),\n",
    "        pd.Series(dict(sets=2, reps=8, weight=20, rir=None, distance=None, notes=None), name=\"W. ring row\"),\n",
    "        pd.Series(dict(sets=2, reps=8, weight=40, rir=2, distance=None, notes=None), name=\"Militar\"),\n",
    "        pd.Series(dict(sets=1, reps=13, weight=35, rir=1, distance=None, notes=None), name=\"1-arm cable row\"),\n",
    "        pd.Series(dict(sets=1, reps=8, weight=20, rir=2, distance=None, notes=None), name=\"W. dip\")\n",
    "    ], axis=1),\n",
    "    \n",
    "    V = pd.concat([\n",
    "        pd.Series(dict(sets=2, reps=None, weight=None, rir=2, distance=None, notes=\"Distance: #feet\"), name=\"HSPU back-to-wall\"),\n",
    "        pd.Series(dict(sets=3, reps=1, weight=None, rir=3, distance=None, notes=None), name=\"Adv Tucked FL\"),\n",
    "        pd.Series(dict(sets=2, reps=None, weight=None, rir=2, distance=None, notes=None), name=\"Wide Pull Up\"),\n",
    "        pd.Series(dict(sets=2, reps=None, weight=None, rir=2, distance=None, notes=None), name=\"Ring PU\"),\n",
    "        pd.Series(dict(sets=1, reps=20, weight=None, rir=0, distance=None, notes=None), name=\"Chest-supported delt raise\"),    \n",
    "        pd.Series(dict(sets=1, reps=12, weight=None, rir=0, distance=None, notes=None), name=\"Barbell drag curl\"),    \n",
    "        pd.Series(dict(sets=1, reps=12, weight=None, rir=0, distance=None, notes=None), name=\"1-arm overhead tricep ext\")\n",
    "    ], axis=1),\n",
    "\n",
    "    S = pd.concat([\n",
    "        pd.Series(dict(sets=2, reps=8, weight=120, rir=2, distance=None, notes=None), name=\"Hip Thrust\"),\n",
    "        pd.Series(dict(sets=2, reps=6, weight=70, rir=2, distance=None, notes=None), name=\"Squat\"),\n",
    "        pd.Series(dict(sets=2, reps=10, weight=70, rir=3, distance=None, notes=\"Straps\"), name=\"Romanian DL\"),\n",
    "        pd.Series(dict(sets=2, reps=8, weight=None, rir=2, distance=None, notes=\"Straps\"), name=\"Split squat\"),\n",
    "        pd.Series(dict(sets=3, reps=None, weight=None, rir=0, distance=None, notes=None), name=\"Hanging leg raise\"),\n",
    "        pd.Series(dict(sets=3, reps=12, weight=15, rir=None, distance=None, notes=None), name=\"GHD back ext\")\n",
    "    ], axis=1)\n",
    ")"
   ]
  },
  {
   "cell_type": "code",
   "execution_count": 6,
   "id": "fd2bd371",
   "metadata": {
    "hidden": true
   },
   "outputs": [],
   "source": [
    "W1 = process_week(w1, 1)"
   ]
  },
  {
   "cell_type": "markdown",
   "id": "af0fc4a4",
   "metadata": {
    "heading_collapsed": true
   },
   "source": [
    "## W2"
   ]
  },
  {
   "cell_type": "code",
   "execution_count": 8,
   "id": "8781172a",
   "metadata": {
    "hidden": true
   },
   "outputs": [],
   "source": [
    "w2 = dict(\n",
    "    M = pd.concat([\n",
    "        pd.Series(dict(sets=3, reps=6, weight=None, rir=None, distance=3, notes=\"Distance: #feet\"), name=\"Box Pike PU\"),\n",
    "        pd.Series(dict(sets=3, reps=1, weight=None, rir=3, distance=None, notes=None), name=\"1-leg FL\"),\n",
    "        pd.Series(dict(sets=2, reps=6, weight=None, rir=None, distance=4, notes=\"Distance: #hand\"), name=\"Lean PU\"),\n",
    "        pd.Series(dict(sets=3, reps=2, weight=2, rir=None, distance=None, notes=\"4 seconds. 1 sec pause in middle. weight: yellow band\"), name=\"St. HW ecc FL - band\"),\n",
    "        pd.Series(dict(sets=2, reps=1, weight=None, rir=0, distance=None, notes=\"max hold\"), name=\"Full Dragon Flag iso\"),\n",
    "        pd.Series(dict(sets=2, reps=None, weight=2, rir=0, distance=None, notes=\"yellow band\"), name=\"Facepulls\")\n",
    "    ], axis=1),\n",
    "\n",
    "    X = pd.concat([\n",
    "        pd.Series(dict(sets=3, reps=None, weight=20, rir=3, distance=None, notes=None), name=\"W. Pull up (prono)\"),\n",
    "        pd.Series(dict(sets=3, reps=6, weight=55, rir=3, distance=None, notes=None), name=\"Pause CG inclined BP\"),\n",
    "        pd.Series(dict(sets=2, reps=8, weight=20, rir=None, distance=None, notes=None), name=\"W. ring row\"),\n",
    "        pd.Series(dict(sets=2, reps=8, weight=40, rir=2, distance=None, notes=None), name=\"Militar\"),\n",
    "        pd.Series(dict(sets=2, reps=13, weight=37.5, rir=1, distance=None, notes=None), name=\"1-arm cable row\"),\n",
    "        pd.Series(dict(sets=2, reps=8, weight=22.5, rir=2, distance=None, notes=None), name=\"W. dip\")\n",
    "    ], axis=1),\n",
    "    \n",
    "    V = pd.concat([\n",
    "        pd.Series(dict(sets=2, reps=None, weight=None, rir=2, distance=None, notes=\"Distance: #feet\"), name=\"HSPU back-to-wall\"),\n",
    "        pd.Series(dict(sets=3, reps=1, weight=None, rir=3, distance=None, notes=None), name=\"Adv Tucked FL\"),\n",
    "        pd.Series(dict(sets=2, reps=None, weight=None, rir=2, distance=None, notes=None), name=\"Wide Pull Up\"),\n",
    "        pd.Series(dict(sets=2, reps=None, weight=None, rir=2, distance=None, notes=None), name=\"Ring PU\"),\n",
    "        pd.Series(dict(sets=1, reps=20, weight=None, rir=0, distance=None, notes=None), name=\"Chest-supported delt raise\"),    \n",
    "        pd.Series(dict(sets=1, reps=12, weight=None, rir=0, distance=None, notes=None), name=\"Barbell drag curl\"),    \n",
    "        pd.Series(dict(sets=1, reps=12, weight=None, rir=0, distance=None, notes=None), name=\"1-arm overhead tricep ext\")\n",
    "    ], axis=1),\n",
    "\n",
    "    S = pd.concat([\n",
    "        pd.Series(dict(sets=2, reps=8, weight=120, rir=2, distance=None, notes=None), name=\"Hip Thrust\"),\n",
    "        pd.Series(dict(sets=2, reps=6, weight=70, rir=2, distance=None, notes=None), name=\"Squat\"),\n",
    "        pd.Series(dict(sets=2, reps=10, weight=70, rir=3, distance=None, notes=\"Straps\"), name=\"Romanian DL\"),\n",
    "        pd.Series(dict(sets=2, reps=8, weight=None, rir=2, distance=None, notes=\"Straps\"), name=\"Split squat\"),\n",
    "        pd.Series(dict(sets=3, reps=None, weight=None, rir=0, distance=None, notes=None), name=\"Hanging leg raise\"),\n",
    "        pd.Series(dict(sets=3, reps=12, weight=15, rir=None, distance=None, notes=None), name=\"GHD back ext\")\n",
    "    ], axis=1)\n",
    ")"
   ]
  },
  {
   "cell_type": "code",
   "execution_count": 9,
   "id": "f1801b30",
   "metadata": {
    "hidden": true
   },
   "outputs": [],
   "source": [
    "W2 = process_week(w2, 2)"
   ]
  },
  {
   "cell_type": "markdown",
   "id": "6cb1a235",
   "metadata": {
    "heading_collapsed": true
   },
   "source": [
    "## W3"
   ]
  },
  {
   "cell_type": "code",
   "execution_count": 10,
   "id": "8297a6b2",
   "metadata": {
    "hidden": true
   },
   "outputs": [],
   "source": [
    "w3 = dict(\n",
    "    M = pd.concat([\n",
    "        pd.Series(dict(sets=3, reps=6, weight=None, rir=None, distance=3, notes=\"Distance: #feet\"), name=\"Box Pike PU\"),\n",
    "        pd.Series(dict(sets=3, reps=1, weight=None, rir=3, distance=None, notes=None), name=\"1-leg FL\"),\n",
    "        pd.Series(dict(sets=3, reps=6, weight=None, rir=None, distance=4, notes=\"Distance: #hand\"), name=\"Lean PU\"),\n",
    "        pd.Series(dict(sets=3, reps=2, weight=2, rir=None, distance=None, notes=\"4 seconds. 1 sec pause in middle. weight: yellow band\"), name=\"St. HW ecc FL - band\"),\n",
    "        pd.Series(dict(sets=2, reps=1, weight=None, rir=0, distance=None, notes=\"max hold\"), name=\"Full Dragon Flag iso\"),\n",
    "        pd.Series(dict(sets=2, reps=None, weight=2, rir=0, distance=None, notes=\"yellow band\"), name=\"Facepulls\")\n",
    "    ], axis=1),\n",
    "\n",
    "    X = pd.concat([\n",
    "        pd.Series(dict(sets=3, reps=None, weight=20, rir=3, distance=None, notes=None), name=\"W. Pull up (prono)\"),\n",
    "        pd.Series(dict(sets=3, reps=6, weight=50, rir=3, distance=None, notes=None), name=\"Pause CG inclined BP\"),\n",
    "        pd.Series(dict(sets=2, reps=8, weight=20, rir=None, distance=None, notes=None), name=\"W. ring row\"),\n",
    "        pd.Series(dict(sets=2, reps=8, weight=40, rir=2, distance=None, notes=None), name=\"Militar\"),\n",
    "        pd.Series(dict(sets=2, reps=13, weight=37.5, rir=1, distance=None, notes=None), name=\"1-arm cable row\"),\n",
    "        pd.Series(dict(sets=2, reps=8, weight=25, rir=2, distance=None, notes=None), name=\"W. dip\")\n",
    "    ], axis=1),\n",
    "    \n",
    "    V = pd.concat([\n",
    "        pd.Series(dict(sets=3, reps=None, weight=None, rir=2, distance=None, notes=\"Distance: #feet\"), name=\"HSPU back-to-wall\"),\n",
    "        pd.Series(dict(sets=3, reps=1, weight=None, rir=3, distance=None, notes=None), name=\"Adv Tucked FL\"),\n",
    "        pd.Series(dict(sets=2, reps=None, weight=None, rir=2, distance=None, notes=None), name=\"Wide Pull Up\"),\n",
    "        pd.Series(dict(sets=2, reps=None, weight=None, rir=2, distance=None, notes=None), name=\"Ring PU\"),\n",
    "        pd.Series(dict(sets=1, reps=20, weight=None, rir=0, distance=None, notes=None), name=\"Chest-supported delt raise\"),    \n",
    "        pd.Series(dict(sets=1, reps=12, weight=None, rir=0, distance=None, notes=None), name=\"Barbell drag curl\"),    \n",
    "        pd.Series(dict(sets=1, reps=12, weight=None, rir=0, distance=None, notes=None), name=\"1-arm overhead tricep ext\")\n",
    "    ], axis=1),\n",
    "\n",
    "    S = pd.concat([\n",
    "        pd.Series(dict(sets=3, reps=8, weight=120, rir=2, distance=None, notes=None), name=\"Hip Thrust\"),\n",
    "        pd.Series(dict(sets=3, reps=6, weight=70, rir=2, distance=None, notes=None), name=\"Squat\"),\n",
    "        pd.Series(dict(sets=2, reps=10, weight=70, rir=3, distance=None, notes=\"Straps\"), name=\"Romanian DL\"),\n",
    "        pd.Series(dict(sets=2, reps=8, weight=None, rir=2, distance=None, notes=\"Straps\"), name=\"Split squat\"),\n",
    "        pd.Series(dict(sets=3, reps=None, weight=None, rir=0, distance=None, notes=None), name=\"Hanging leg raise\"),\n",
    "        pd.Series(dict(sets=3, reps=12, weight=15, rir=None, distance=None, notes=None), name=\"GHD back ext\")\n",
    "    ], axis=1)\n",
    ")"
   ]
  },
  {
   "cell_type": "code",
   "execution_count": 11,
   "id": "2694d863",
   "metadata": {
    "hidden": true
   },
   "outputs": [],
   "source": [
    "W3 = process_week(w3, 3)"
   ]
  },
  {
   "cell_type": "markdown",
   "id": "79047cf3",
   "metadata": {},
   "source": [
    "## W4"
   ]
  },
  {
   "cell_type": "code",
   "execution_count": 10,
   "id": "d0d98b82",
   "metadata": {},
   "outputs": [],
   "source": [
    "w4 = dict(\n",
    "    M = pd.concat([\n",
    "        pd.Series(dict(sets=3, reps=6, weight=None, rir=None, distance=3, notes=\"Distance: #feet\"), name=\"Box Pike PU\"),\n",
    "        pd.Series(dict(sets=4, reps=1, weight=None, rir=3, distance=None, notes=None), name=\"1-leg FL\"),\n",
    "        pd.Series(dict(sets=3, reps=6, weight=None, rir=None, distance=4.25, notes=\"Distance: #hand\"), name=\"Lean PU\"),\n",
    "        pd.Series(dict(sets=3, reps=2, weight=2, rir=None, distance=None, notes=\"4 seconds. 1 sec pause in middle. weight: yellow band\"), name=\"St. HW ecc FL - band\"),\n",
    "        pd.Series(dict(sets=2, reps=1, weight=None, rir=0, distance=None, notes=\"max hold\"), name=\"Full Dragon Flag iso\"),\n",
    "        pd.Series(dict(sets=2, reps=None, weight=2, rir=0, distance=None, notes=\"yellow band\"), name=\"Facepulls\")\n",
    "    ], axis=1),\n",
    "\n",
    "    X = pd.concat([\n",
    "        pd.Series(dict(sets=3, reps=None, weight=22.5, rir=3, distance=None, notes=None), name=\"W. Pull up (prono)\"),\n",
    "        pd.Series(dict(sets=3, reps=6, weight=52.5, rir=3, distance=None, notes=None), name=\"Pause CG inclined BP\"),\n",
    "        pd.Series(dict(sets=3, reps=8, weight=20, rir=None, distance=None, notes=None), name=\"W. ring row\"),\n",
    "        pd.Series(dict(sets=3, reps=8, weight=42.5, rir=2, distance=None, notes=None), name=\"Militar\"),\n",
    "        pd.Series(dict(sets=2, reps=13, weight=40, rir=1, distance=None, notes=None), name=\"1-arm cable row\"),\n",
    "        pd.Series(dict(sets=2, reps=8, weight=27.5, rir=2, distance=None, notes=None), name=\"W. dip\")\n",
    "    ], axis=1),\n",
    "    \n",
    "    V = pd.concat([\n",
    "        pd.Series(dict(sets=3, reps=None, weight=None, rir=1, distance=None, notes=\"Distance: #feet\"), name=\"HSPU back-to-wall\"),\n",
    "        pd.Series(dict(sets=3, reps=1, weight=None, rir=3, distance=None, notes=None), name=\"Adv Tucked FL\"),\n",
    "        pd.Series(dict(sets=2, reps=None, weight=None, rir=2, distance=None, notes=None), name=\"Wide Pull Up\"),\n",
    "        pd.Series(dict(sets=2, reps=None, weight=None, rir=2, distance=None, notes=None), name=\"Ring PU\"),\n",
    "        pd.Series(dict(sets=2, reps=20, weight=None, rir=0, distance=None, notes=None), name=\"Chest-supported delt raise\"),    \n",
    "        pd.Series(dict(sets=2, reps=12, weight=None, rir=0, distance=None, notes=None), name=\"Barbell drag curl\"),    \n",
    "        pd.Series(dict(sets=2, reps=12, weight=None, rir=0, distance=None, notes=None), name=\"1-arm overhead tricep ext\")\n",
    "    ], axis=1),\n",
    "\n",
    "    S = pd.concat([\n",
    "        pd.Series(dict(sets=3, reps=8, weight=120, rir=2, distance=None, notes=None), name=\"Hip Thrust\"),\n",
    "        pd.Series(dict(sets=3, reps=6, weight=70, rir=2, distance=None, notes=None), name=\"Squat\"),\n",
    "        pd.Series(dict(sets=2, reps=10, weight=70, rir=3, distance=None, notes=\"Straps\"), name=\"Romanian DL\"),\n",
    "        pd.Series(dict(sets=2, reps=8, weight=None, rir=2, distance=None, notes=\"Straps\"), name=\"Split squat\"),\n",
    "        pd.Series(dict(sets=3, reps=None, weight=None, rir=0, distance=None, notes=None), name=\"Hanging leg raise\"),\n",
    "        pd.Series(dict(sets=3, reps=12, weight=15, rir=None, distance=None, notes=None), name=\"GHD back ext\")\n",
    "    ], axis=1)\n",
    ")"
   ]
  },
  {
   "cell_type": "code",
   "execution_count": 11,
   "id": "2947c52e",
   "metadata": {},
   "outputs": [],
   "source": [
    "W4 = process_week(w4,4)"
   ]
  }
 ],
 "metadata": {
  "kernelspec": {
   "display_name": "Python 3 (ipykernel)",
   "language": "python",
   "name": "python3"
  },
  "language_info": {
   "codemirror_mode": {
    "name": "ipython",
    "version": 3
   },
   "file_extension": ".py",
   "mimetype": "text/x-python",
   "name": "python",
   "nbconvert_exporter": "python",
   "pygments_lexer": "ipython3",
   "version": "3.10.4"
  }
 },
 "nbformat": 4,
 "nbformat_minor": 5
}
