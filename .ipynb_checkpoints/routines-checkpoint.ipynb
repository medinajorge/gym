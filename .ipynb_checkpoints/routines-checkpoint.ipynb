{
 "cells": [
  {
   "cell_type": "markdown",
   "id": "5bd21da7",
   "metadata": {},
   "source": [
    "## Packages"
   ]
  },
  {
   "cell_type": "code",
   "execution_count": 2,
   "id": "3a021c54",
   "metadata": {
    "init_cell": true
   },
   "outputs": [],
   "source": [
    "import numpy as np\n",
    "import pandas as pd\n",
    "import routines\n",
    "from helper import process_week, join_weeks, deload"
   ]
  },
  {
   "cell_type": "markdown",
   "id": "5bd51c09",
   "metadata": {},
   "source": [
    "# Guides"
   ]
  },
  {
   "cell_type": "markdown",
   "id": "69c6d5be",
   "metadata": {},
   "source": [
    "1. Band strengths: 2 (yellow)\n",
    "2. When in conflict, choose weight appropiate for the reps and rir."
   ]
  },
  {
   "cell_type": "markdown",
   "id": "3790bb0e",
   "metadata": {},
   "source": [
    "# Routines"
   ]
  },
  {
   "cell_type": "code",
   "execution_count": null,
   "id": "cc3496da",
   "metadata": {},
   "outputs": [],
   "source": [
    "R = routines.Eric_cycle1().drop(\"W1\", axis=1)\n",
    "deload(R, mode=\"sets\")[\"X\"]"
   ]
  },
  {
   "cell_type": "code",
   "execution_count": null,
   "id": "22acfca2",
   "metadata": {},
   "outputs": [],
   "source": [
    "deload(routines.Eric_cycle2())[\"V\"]"
   ]
  }
 ],
 "metadata": {
  "kernelspec": {
   "display_name": "Python 3 (ipykernel)",
   "language": "python",
   "name": "python3"
  },
  "language_info": {
   "codemirror_mode": {
    "name": "ipython",
    "version": 3
   },
   "file_extension": ".py",
   "mimetype": "text/x-python",
   "name": "python",
   "nbconvert_exporter": "python",
   "pygments_lexer": "ipython3",
   "version": "3.10.4"
  }
 },
 "nbformat": 4,
 "nbformat_minor": 5
}
